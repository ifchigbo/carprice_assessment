{
 "cells": [
  {
   "cell_type": "code",
   "execution_count": 1,
   "metadata": {},
   "outputs": [
    {
     "name": "stdout",
     "output_type": "stream",
     "text": [
      "The car_ID of the car is 1\n",
      "The CarName of the car is alfa-romero giulia\n",
      "The fueltype of the car is gas\n",
      "The doornumber of the car is 2\n",
      "The carbody of the car is convertible\n",
      "The drivewheel of the car is rwd\n",
      "The enginelocation of the car is front\n",
      "The wheelbase of the car is 88.6\n",
      "The carlength of the car is 168.8\n",
      "The carwidth of the car is 64.1\n",
      "The carheight of the car is 48.8\n",
      "The curbweight of the car is 2548\n",
      "The enginetype of the car is dohc\n",
      "The cylindernumber of the car is 4\n",
      "The enginesize of the car is 130\n",
      "The fuelsystem of the car is mpfi\n",
      "The horsepower of the car is 111\n",
      "The citympg of the car is 21\n",
      "The highwaympg of the car is 27\n",
      "The price of the car is 13495\n"
     ]
    }
   ],
   "source": [
    "from lib2to3.pytree import Base\n",
    "from loaddata import df_header, data_set\n",
    "\n",
    "\n",
    "#Get Car value by ID\n",
    "def getCarbyID():\n",
    "    # I am using this check to keep track of  index in my records index\n",
    "    checker  = 1\n",
    "    try:\n",
    "        id = int(input(\"Enter the ID of the Car you want to view: \"))\n",
    "        # index in a list starts from zero, but the car index starts from one , so i need to subtract id  from my checker variable\n",
    "        id = id -checker\n",
    "        # return a splice of the array by calling the  index and the entire row of data related to the index\n",
    "        return data_set[id][:]\n",
    "    except BaseException as error:\n",
    "        print(\"Your Error Message reads: {}\".format(error))\n",
    "\n",
    "try:\n",
    "    car_id_details = []\n",
    "    for items in getCarbyID():\n",
    "        car_id_details.append(items)\n",
    "    car_record = zip(df_header,car_id_details)\n",
    "    for ID,car_details in  dict(car_record).items():\n",
    "        print(\"The {} of the car is: {}\".format(ID,car_details))\n",
    "except BaseException as error:\n",
    "    print(\"The following error occured: {}\".format(error))\n",
    "\n",
    "#for headers in df_header:\n",
    "#    print(\"The {} of the car is {}\")\n"
   ]
  },
  {
   "cell_type": "code",
   "execution_count": null,
   "metadata": {},
   "outputs": [],
   "source": []
  }
 ],
 "metadata": {
  "kernelspec": {
   "display_name": "Python 3 (ipykernel)",
   "language": "python",
   "name": "python3"
  },
  "language_info": {
   "codemirror_mode": {
    "name": "ipython",
    "version": 3
   },
   "file_extension": ".py",
   "mimetype": "text/x-python",
   "name": "python",
   "nbconvert_exporter": "python",
   "pygments_lexer": "ipython3",
   "version": "3.9.0"
  },
  "vscode": {
   "interpreter": {
    "hash": "355db077f91938a2da64fe784c91fafd2ca6eee95c2d8624151e9ace354f9883"
   }
  }
 },
 "nbformat": 4,
 "nbformat_minor": 2
}
